{
 "cells": [
  {
   "metadata": {},
   "cell_type": "markdown",
   "source": "#### import library",
   "id": "33bcbfeeff27f0c5"
  },
  {
   "metadata": {},
   "cell_type": "code",
   "outputs": [],
   "execution_count": 12,
   "source": [
    "import requests\n",
    "from bs4 import BeautifulSoup\n",
    "\n",
    "response = requests.get(\"https://books.toscrape.com/\")\n",
    "# content or text\n",
    "soup = BeautifulSoup(response.content, \"lxml\")\n",
    "#lxml or (html.parser when i have a html doc"
   ],
   "id": "810aecde9c531452"
  },
  {
   "metadata": {},
   "cell_type": "markdown",
   "source": "#### Simple Orders",
   "id": "4d3085a67a9b2b0d"
  },
  {
   "metadata": {},
   "cell_type": "code",
   "outputs": [],
   "execution_count": null,
   "source": [
    "soup.find('a')\n",
    "\n",
    "soup.find_all('a')\n",
    "\n",
    "soup.select('.sister')\n",
    "\n",
    "soup.select_one('#link3')\n",
    "\n",
    "print(soup.prettify()) # print every html in the tree\n",
    "\n",
    "soup.get_text() # call back every text in the page"
   ],
   "id": "980f0b22bb3cf886"
  },
  {
   "metadata": {},
   "cell_type": "markdown",
   "source": "#### Get the Href",
   "id": "fee3f56db85418c2"
  },
  {
   "metadata": {
    "ExecuteTime": {
     "end_time": "2025-08-11T07:54:18.050229Z",
     "start_time": "2025-08-11T07:54:18.034780Z"
    }
   },
   "cell_type": "code",
   "source": [
    "for a in soup.find_all('a'):\n",
    "    print(a.get_text(strip=True), \"->\", a.get('href'))\n"
   ],
   "id": "616adc2a5fe7c6dc",
   "outputs": [
    {
     "name": "stdout",
     "output_type": "stream",
     "text": [
      "Books to Scrape -> index.html\n",
      "Home -> index.html\n",
      "Books -> catalogue/category/books_1/index.html\n",
      "Travel -> catalogue/category/books/travel_2/index.html\n",
      "Mystery -> catalogue/category/books/mystery_3/index.html\n",
      "Historical Fiction -> catalogue/category/books/historical-fiction_4/index.html\n",
      "Sequential Art -> catalogue/category/books/sequential-art_5/index.html\n",
      "Classics -> catalogue/category/books/classics_6/index.html\n",
      "Philosophy -> catalogue/category/books/philosophy_7/index.html\n",
      "Romance -> catalogue/category/books/romance_8/index.html\n",
      "Womens Fiction -> catalogue/category/books/womens-fiction_9/index.html\n",
      "Fiction -> catalogue/category/books/fiction_10/index.html\n",
      "Childrens -> catalogue/category/books/childrens_11/index.html\n",
      "Religion -> catalogue/category/books/religion_12/index.html\n",
      "Nonfiction -> catalogue/category/books/nonfiction_13/index.html\n",
      "Music -> catalogue/category/books/music_14/index.html\n",
      "Default -> catalogue/category/books/default_15/index.html\n",
      "Science Fiction -> catalogue/category/books/science-fiction_16/index.html\n",
      "Sports and Games -> catalogue/category/books/sports-and-games_17/index.html\n",
      "Add a comment -> catalogue/category/books/add-a-comment_18/index.html\n",
      "Fantasy -> catalogue/category/books/fantasy_19/index.html\n",
      "New Adult -> catalogue/category/books/new-adult_20/index.html\n",
      "Young Adult -> catalogue/category/books/young-adult_21/index.html\n",
      "Science -> catalogue/category/books/science_22/index.html\n",
      "Poetry -> catalogue/category/books/poetry_23/index.html\n",
      "Paranormal -> catalogue/category/books/paranormal_24/index.html\n",
      "Art -> catalogue/category/books/art_25/index.html\n",
      "Psychology -> catalogue/category/books/psychology_26/index.html\n",
      "Autobiography -> catalogue/category/books/autobiography_27/index.html\n",
      "Parenting -> catalogue/category/books/parenting_28/index.html\n",
      "Adult Fiction -> catalogue/category/books/adult-fiction_29/index.html\n",
      "Humor -> catalogue/category/books/humor_30/index.html\n",
      "Horror -> catalogue/category/books/horror_31/index.html\n",
      "History -> catalogue/category/books/history_32/index.html\n",
      "Food and Drink -> catalogue/category/books/food-and-drink_33/index.html\n",
      "Christian Fiction -> catalogue/category/books/christian-fiction_34/index.html\n",
      "Business -> catalogue/category/books/business_35/index.html\n",
      "Biography -> catalogue/category/books/biography_36/index.html\n",
      "Thriller -> catalogue/category/books/thriller_37/index.html\n",
      "Contemporary -> catalogue/category/books/contemporary_38/index.html\n",
      "Spirituality -> catalogue/category/books/spirituality_39/index.html\n",
      "Academic -> catalogue/category/books/academic_40/index.html\n",
      "Self Help -> catalogue/category/books/self-help_41/index.html\n",
      "Historical -> catalogue/category/books/historical_42/index.html\n",
      "Christian -> catalogue/category/books/christian_43/index.html\n",
      "Suspense -> catalogue/category/books/suspense_44/index.html\n",
      "Short Stories -> catalogue/category/books/short-stories_45/index.html\n",
      "Novels -> catalogue/category/books/novels_46/index.html\n",
      "Health -> catalogue/category/books/health_47/index.html\n",
      "Politics -> catalogue/category/books/politics_48/index.html\n",
      "Cultural -> catalogue/category/books/cultural_49/index.html\n",
      "Erotica -> catalogue/category/books/erotica_50/index.html\n",
      "Crime -> catalogue/category/books/crime_51/index.html\n",
      " -> catalogue/a-light-in-the-attic_1000/index.html\n",
      "A Light in the ... -> catalogue/a-light-in-the-attic_1000/index.html\n",
      " -> catalogue/tipping-the-velvet_999/index.html\n",
      "Tipping the Velvet -> catalogue/tipping-the-velvet_999/index.html\n",
      " -> catalogue/soumission_998/index.html\n",
      "Soumission -> catalogue/soumission_998/index.html\n",
      " -> catalogue/sharp-objects_997/index.html\n",
      "Sharp Objects -> catalogue/sharp-objects_997/index.html\n",
      " -> catalogue/sapiens-a-brief-history-of-humankind_996/index.html\n",
      "Sapiens: A Brief History ... -> catalogue/sapiens-a-brief-history-of-humankind_996/index.html\n",
      " -> catalogue/the-requiem-red_995/index.html\n",
      "The Requiem Red -> catalogue/the-requiem-red_995/index.html\n",
      " -> catalogue/the-dirty-little-secrets-of-getting-your-dream-job_994/index.html\n",
      "The Dirty Little Secrets ... -> catalogue/the-dirty-little-secrets-of-getting-your-dream-job_994/index.html\n",
      " -> catalogue/the-coming-woman-a-novel-based-on-the-life-of-the-infamous-feminist-victoria-woodhull_993/index.html\n",
      "The Coming Woman: A ... -> catalogue/the-coming-woman-a-novel-based-on-the-life-of-the-infamous-feminist-victoria-woodhull_993/index.html\n",
      " -> catalogue/the-boys-in-the-boat-nine-americans-and-their-epic-quest-for-gold-at-the-1936-berlin-olympics_992/index.html\n",
      "The Boys in the ... -> catalogue/the-boys-in-the-boat-nine-americans-and-their-epic-quest-for-gold-at-the-1936-berlin-olympics_992/index.html\n",
      " -> catalogue/the-black-maria_991/index.html\n",
      "The Black Maria -> catalogue/the-black-maria_991/index.html\n",
      " -> catalogue/starving-hearts-triangular-trade-trilogy-1_990/index.html\n",
      "Starving Hearts (Triangular Trade ... -> catalogue/starving-hearts-triangular-trade-trilogy-1_990/index.html\n",
      " -> catalogue/shakespeares-sonnets_989/index.html\n",
      "Shakespeare's Sonnets -> catalogue/shakespeares-sonnets_989/index.html\n",
      " -> catalogue/set-me-free_988/index.html\n",
      "Set Me Free -> catalogue/set-me-free_988/index.html\n",
      " -> catalogue/scott-pilgrims-precious-little-life-scott-pilgrim-1_987/index.html\n",
      "Scott Pilgrim's Precious Little ... -> catalogue/scott-pilgrims-precious-little-life-scott-pilgrim-1_987/index.html\n",
      " -> catalogue/rip-it-up-and-start-again_986/index.html\n",
      "Rip it Up and ... -> catalogue/rip-it-up-and-start-again_986/index.html\n",
      " -> catalogue/our-band-could-be-your-life-scenes-from-the-american-indie-underground-1981-1991_985/index.html\n",
      "Our Band Could Be ... -> catalogue/our-band-could-be-your-life-scenes-from-the-american-indie-underground-1981-1991_985/index.html\n",
      " -> catalogue/olio_984/index.html\n",
      "Olio -> catalogue/olio_984/index.html\n",
      " -> catalogue/mesaerion-the-best-science-fiction-stories-1800-1849_983/index.html\n",
      "Mesaerion: The Best Science ... -> catalogue/mesaerion-the-best-science-fiction-stories-1800-1849_983/index.html\n",
      " -> catalogue/libertarianism-for-beginners_982/index.html\n",
      "Libertarianism for Beginners -> catalogue/libertarianism-for-beginners_982/index.html\n",
      " -> catalogue/its-only-the-himalayas_981/index.html\n",
      "It's Only the Himalayas -> catalogue/its-only-the-himalayas_981/index.html\n",
      "next -> catalogue/page-2.html\n"
     ]
    }
   ],
   "execution_count": 13
  },
  {
   "metadata": {},
   "cell_type": "markdown",
   "source": "#### Get simple things",
   "id": "fc5ec90f170a1e36"
  },
  {
   "metadata": {},
   "cell_type": "code",
   "outputs": [],
   "execution_count": null,
   "source": [
    "soup.title               # <title>...</title>\n",
    "soup.title.name          # 'title'\n",
    "soup.title.string        # النص الموجود داخل الـ title\n",
    "soup.p                   # أول <p> في الصفحة\n",
    "soup.a                   # أول <a>"
   ],
   "id": "ec15ae1e5538c24d"
  },
  {
   "metadata": {},
   "cell_type": "markdown",
   "source": "#### Searching",
   "id": "e360c4b643fa06c1"
  },
  {
   "metadata": {},
   "cell_type": "code",
   "outputs": [],
   "execution_count": null,
   "source": [
    "soup.find('a')                       # أول عنصر <a>\n",
    "soup.find_all('a')                   # كل عناصر <a> كقائمة\n",
    "soup.find(id=\"link3\")                # البحث بالـ id\n",
    "soup.find_all('a', class_='sister')  # لاحظ class_ بدل class"
   ],
   "id": "586837e2814e77fd"
  },
  {
   "metadata": {},
   "cell_type": "markdown",
   "source": "#### Css Selector",
   "id": "7bdc83030fcb9cd9"
  },
  {
   "metadata": {},
   "cell_type": "code",
   "outputs": [],
   "execution_count": null,
   "source": [
    "soup.select('.sister')        # كل العناصر اللي عندها class=\"sister\"\n",
    "soup.select('p.title > b')    # اختيار باستخدام CSS selector\n",
    "soup.select_one('a#link1')    # أول عنصر يطابق"
   ],
   "id": "f9f96fee096ae1ec"
  },
  {
   "metadata": {},
   "cell_type": "markdown",
   "source": "#### Get the Attributes (class , id , href)",
   "id": "29fc27a425cd1ea5"
  },
  {
   "metadata": {},
   "cell_type": "code",
   "outputs": [],
   "execution_count": null,
   "source": [
    "a = soup.find('a')\n",
    "a['href']            # يرفع KeyError لو مفيش href\n",
    "a.get('href')        # يرجع None لو مش موجود — أنسب للاستخدام الآمن\n",
    "a.get('class')       # عادة بيرجع قائمة: ['sister']\n",
    "a.attrs              # dict بكل الـ attributes"
   ],
   "id": "cf4e266844a9efae"
  },
  {
   "metadata": {},
   "cell_type": "markdown",
   "source": "#### Get Strings inside",
   "id": "169d7ca256aaf262"
  },
  {
   "metadata": {},
   "cell_type": "code",
   "outputs": [],
   "execution_count": null,
   "source": [
    "tag.string          # بترجع النص لو العنصر مجرد نص وحيد (وإلا None)\n",
    "tag.get_text()      # يرجع كل النصوص داخل العنصر (مفيد)\n",
    "tag.get_text(strip=True)  # يزيل المساحات البيضاء من البداية والنهاية"
   ],
   "id": "68cc12979e375d38"
  },
  {
   "metadata": {},
   "cell_type": "markdown",
   "source": "",
   "id": "16e5931a2f8b15c3"
  }
 ],
 "metadata": {
  "kernelspec": {
   "display_name": "Python 3",
   "language": "python",
   "name": "python3"
  },
  "language_info": {
   "codemirror_mode": {
    "name": "ipython",
    "version": 2
   },
   "file_extension": ".py",
   "mimetype": "text/x-python",
   "name": "python",
   "nbconvert_exporter": "python",
   "pygments_lexer": "ipython2",
   "version": "2.7.6"
  }
 },
 "nbformat": 4,
 "nbformat_minor": 5
}
